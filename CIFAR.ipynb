{
 "cells": [
  {
   "cell_type": "code",
   "execution_count": 1,
   "metadata": {},
   "outputs": [],
   "source": [
    "from torchvision.models.resnet import ResNet, BasicBlock,resnet152\n",
    "from torchvision.datasets import MNIST\n",
    "from tqdm.notebook import tqdm\n",
    "import torchvision\n",
    "from sklearn.metrics import precision_score, recall_score, f1_score, accuracy_score\n",
    "import inspect\n",
    "import time\n",
    "import torch\n",
    "import os\n",
    "from torch import nn, optim\n",
    "from torchvision.transforms import Compose, ToTensor, Normalize, Resize, Lambda\n",
    "from torch.utils.data import DataLoader\n",
    "from Natasha1 import Natasha1\n",
    "from Natasha2 import Natasha2\n",
    "from MnistLeNet import *\n",
    "from MnistResNet import *\n",
    "from utils import *\n",
    "import random\n",
    "from train import train_val"
   ]
  },
  {
   "cell_type": "code",
   "execution_count": 2,
   "metadata": {},
   "outputs": [],
   "source": [
    "os.environ[\"CUDA_VISIBLE_DEVICES\"]='4,5'"
   ]
  },
  {
   "cell_type": "code",
   "execution_count": 5,
   "metadata": {},
   "outputs": [
    {
     "name": "stdout",
     "output_type": "stream",
     "text": [
      "[train.py] Using cuda device 0\n",
      "Files already downloaded and verified\n",
      "Files already downloaded and verified\n",
      "[train.py] using optimization algorithm Adam\n",
      "[train.pu] training with 10% of data\n"
     ]
    },
    {
     "data": {
      "application/vnd.jupyter.widget-view+json": {
       "model_id": "82b5e1cb4c0046d3b58ef8d526d7f876",
       "version_major": 2,
       "version_minor": 0
      },
      "text/plain": [
       "HBox(children=(FloatProgress(value=0.0, description='Loss: ', max=782.0, style=ProgressStyle(description_width…"
      ]
     },
     "metadata": {},
     "output_type": "display_data"
    },
    {
     "name": "stdout",
     "output_type": "stream",
     "text": [
      "\n",
      "Epoch 1/10, training loss: 0.17420426872380249, validation loss: 1.6858150959014893\n",
      "\t     precision: 0.4002\n",
      "\t        recall: 0.3989\n",
      "\t            F1: 0.3576\n",
      "\t      accuracy: 0.4009\n"
     ]
    },
    {
     "data": {
      "application/vnd.jupyter.widget-view+json": {
       "model_id": "3ae844c75c4f4fbf8ff6d8105f9d02c8",
       "version_major": 2,
       "version_minor": 0
      },
      "text/plain": [
       "HBox(children=(FloatProgress(value=0.0, description='Loss: ', max=782.0, style=ProgressStyle(description_width…"
      ]
     },
     "metadata": {},
     "output_type": "display_data"
    },
    {
     "name": "stdout",
     "output_type": "stream",
     "text": [
      "\n",
      "Epoch 2/10, training loss: 0.16901819800476894, validation loss: 1.5472148656845093\n",
      "\t     precision: 0.4350\n",
      "\t        recall: 0.4351\n",
      "\t            F1: 0.3807\n",
      "\t      accuracy: 0.4356\n"
     ]
    },
    {
     "data": {
      "application/vnd.jupyter.widget-view+json": {
       "model_id": "90ae9d3b060f4d63a8f78f0435cb5602",
       "version_major": 2,
       "version_minor": 0
      },
      "text/plain": [
       "HBox(children=(FloatProgress(value=0.0, description='Loss: ', max=782.0, style=ProgressStyle(description_width…"
      ]
     },
     "metadata": {},
     "output_type": "display_data"
    },
    {
     "name": "stdout",
     "output_type": "stream",
     "text": [
      "\n",
      "Epoch 3/10, training loss: 0.15473279638973345, validation loss: 1.6200459003448486\n",
      "\t     precision: 0.4923\n",
      "\t        recall: 0.4216\n",
      "\t            F1: 0.4065\n",
      "\t      accuracy: 0.4255\n"
     ]
    },
    {
     "data": {
      "application/vnd.jupyter.widget-view+json": {
       "model_id": "f49dffbd13b34e6eb2f9674e21bcf43a",
       "version_major": 2,
       "version_minor": 0
      },
      "text/plain": [
       "HBox(children=(FloatProgress(value=0.0, description='Loss: ', max=782.0, style=ProgressStyle(description_width…"
      ]
     },
     "metadata": {},
     "output_type": "display_data"
    },
    {
     "name": "stdout",
     "output_type": "stream",
     "text": [
      "\n",
      "Epoch 4/10, training loss: 0.14641871598675427, validation loss: 1.2936296463012695\n",
      "\t     precision: 0.5500\n",
      "\t        recall: 0.5392\n",
      "\t            F1: 0.5132\n",
      "\t      accuracy: 0.5422\n"
     ]
    },
    {
     "data": {
      "application/vnd.jupyter.widget-view+json": {
       "model_id": "c536b15ecc65450d9f97a36fd71e69fd",
       "version_major": 2,
       "version_minor": 0
      },
      "text/plain": [
       "HBox(children=(FloatProgress(value=0.0, description='Loss: ', max=782.0, style=ProgressStyle(description_width…"
      ]
     },
     "metadata": {},
     "output_type": "display_data"
    },
    {
     "name": "stdout",
     "output_type": "stream",
     "text": [
      "\n",
      "Epoch 5/10, training loss: 0.13697720938326452, validation loss: 1.3452465534210205\n",
      "\t     precision: 0.5328\n",
      "\t        recall: 0.5076\n",
      "\t            F1: 0.4825\n",
      "\t      accuracy: 0.5116\n"
     ]
    },
    {
     "data": {
      "application/vnd.jupyter.widget-view+json": {
       "model_id": "0b47cbd64d8e40638ab7f889341ef5bf",
       "version_major": 2,
       "version_minor": 0
      },
      "text/plain": [
       "HBox(children=(FloatProgress(value=0.0, description='Loss: ', max=782.0, style=ProgressStyle(description_width…"
      ]
     },
     "metadata": {},
     "output_type": "display_data"
    },
    {
     "name": "stdout",
     "output_type": "stream",
     "text": [
      "\n",
      "Epoch 6/10, training loss: 0.12100065867309376, validation loss: 1.3178335428237915\n",
      "\t     precision: 0.5675\n",
      "\t        recall: 0.5326\n",
      "\t            F1: 0.5047\n",
      "\t      accuracy: 0.5378\n"
     ]
    },
    {
     "data": {
      "application/vnd.jupyter.widget-view+json": {
       "model_id": "6e65a2805d41455e9bd205d191f188aa",
       "version_major": 2,
       "version_minor": 0
      },
      "text/plain": [
       "HBox(children=(FloatProgress(value=0.0, description='Loss: ', max=782.0, style=ProgressStyle(description_width…"
      ]
     },
     "metadata": {},
     "output_type": "display_data"
    },
    {
     "name": "stdout",
     "output_type": "stream",
     "text": [
      "\n",
      "Epoch 7/10, training loss: 0.11354565841462606, validation loss: 1.3162622451782227\n",
      "\t     precision: 0.5755\n",
      "\t        recall: 0.5433\n",
      "\t            F1: 0.5135\n",
      "\t      accuracy: 0.5450\n"
     ]
    },
    {
     "data": {
      "application/vnd.jupyter.widget-view+json": {
       "model_id": "44bc4552113746cbbd50fac33394828b",
       "version_major": 2,
       "version_minor": 0
      },
      "text/plain": [
       "HBox(children=(FloatProgress(value=0.0, description='Loss: ', max=782.0, style=ProgressStyle(description_width…"
      ]
     },
     "metadata": {},
     "output_type": "display_data"
    },
    {
     "name": "stdout",
     "output_type": "stream",
     "text": [
      "\n",
      "Epoch 8/10, training loss: 0.13277180024120203, validation loss: 1.1968530416488647\n",
      "\t     precision: 0.6096\n",
      "\t        recall: 0.5699\n",
      "\t            F1: 0.5602\n",
      "\t      accuracy: 0.5746\n"
     ]
    },
    {
     "data": {
      "application/vnd.jupyter.widget-view+json": {
       "model_id": "88c9d0b6d82a4a7896218016c9fb394a",
       "version_major": 2,
       "version_minor": 0
      },
      "text/plain": [
       "HBox(children=(FloatProgress(value=0.0, description='Loss: ', max=782.0, style=ProgressStyle(description_width…"
      ]
     },
     "metadata": {},
     "output_type": "display_data"
    },
    {
     "name": "stdout",
     "output_type": "stream",
     "text": [
      "\n",
      "Epoch 9/10, training loss: 0.11032263305790894, validation loss: 1.1398473978042603\n",
      "\t     precision: 0.6045\n",
      "\t        recall: 0.5983\n",
      "\t            F1: 0.5769\n",
      "\t      accuracy: 0.6029\n"
     ]
    },
    {
     "data": {
      "application/vnd.jupyter.widget-view+json": {
       "model_id": "6fe07687aa954fa6809b3b5a8c83496e",
       "version_major": 2,
       "version_minor": 0
      },
      "text/plain": [
       "HBox(children=(FloatProgress(value=0.0, description='Loss: ', max=782.0, style=ProgressStyle(description_width…"
      ]
     },
     "metadata": {},
     "output_type": "display_data"
    },
    {
     "name": "stdout",
     "output_type": "stream",
     "text": [
      "\n",
      "Epoch 10/10, training loss: 0.08789544100956538, validation loss: 1.181014895439148\n",
      "\t     precision: 0.6068\n",
      "\t        recall: 0.5898\n",
      "\t            F1: 0.5626\n",
      "\t      accuracy: 0.5934\n",
      "Training time: 61.80889558792114s\n"
     ]
    }
   ],
   "source": [
    "learning_curves_SGD_LeNet = train_val(algorithm='Adam', cuda=0, epochs=10, train_portion=0.1, net='CifarResNet', dataset='CIFAR')"
   ]
  }
 ],
 "metadata": {
  "kernelspec": {
   "display_name": "Python 3",
   "language": "python",
   "name": "python3"
  },
  "language_info": {
   "codemirror_mode": {
    "name": "ipython",
    "version": 3
   },
   "file_extension": ".py",
   "mimetype": "text/x-python",
   "name": "python",
   "nbconvert_exporter": "python",
   "pygments_lexer": "ipython3",
   "version": "3.7.4"
  }
 },
 "nbformat": 4,
 "nbformat_minor": 4
}
